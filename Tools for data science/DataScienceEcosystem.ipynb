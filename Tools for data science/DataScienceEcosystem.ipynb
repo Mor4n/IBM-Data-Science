{
 "cells": [
  {
   "cell_type": "markdown",
   "id": "223296ff-42db-4601-a1af-dd2d0b365627",
   "metadata": {
    "tags": []
   },
   "source": [
    "# Data Science Tools and Ecosystem"
   ]
  },
  {
   "cell_type": "markdown",
   "id": "13391185-f5ef-4906-bb7a-b14f610491e1",
   "metadata": {},
   "source": [
    "In this notebook, Data Science Tools and Ecosystem are summarized."
   ]
  },
  {
   "cell_type": "markdown",
   "id": "404e60f4-1484-415e-a4a6-100be2fa8af7",
   "metadata": {},
   "source": [
    "**Objectives:**\n",
    "- List popular languages for Data Science\n",
    "- List libraries commonly used by data scientists\n",
    "- Show three development environment open source tools used in data science."
   ]
  },
  {
   "cell_type": "markdown",
   "id": "d78a43d2-284f-42f8-a411-b11a2d08936d",
   "metadata": {},
   "source": [
    "Some of the popular languages that Data Scientists use are:\n",
    "1. Python\n",
    "2. R\n",
    "3. Scala\n",
    "4. SQL\n",
    "5. Julia"
   ]
  },
  {
   "cell_type": "markdown",
   "id": "474c46e8-a7ac-42cb-a574-535e982e887c",
   "metadata": {},
   "source": [
    "Some of the commonly used libraries used by Data Scientists include:\n",
    "1. Numpy\n",
    "2. Pandas\n",
    "3. Tensorflow\n",
    "4. Pytorch"
   ]
  },
  {
   "cell_type": "markdown",
   "id": "b88ec21d-5ca5-40e8-b4b7-031034a927a5",
   "metadata": {},
   "source": [
    "| Data Science Tools |\n",
    "| ------------------ |\n",
    "|RStudio|\n",
    "|Jupyter Notebook|\n",
    "|Apache Zeppelin|\n"
   ]
  },
  {
   "cell_type": "markdown",
   "id": "6bf455f0-57dd-4a2f-91cf-97167392d001",
   "metadata": {},
   "source": [
    "### Below are a few examples of evaluating arithmetic expressions in Python."
   ]
  },
  {
   "cell_type": "code",
   "execution_count": 6,
   "id": "2d1d1b0c-b4a3-40e9-9fbf-e1237202397e",
   "metadata": {},
   "outputs": [
    {
     "data": {
      "text/plain": [
       "17"
      ]
     },
     "execution_count": 6,
     "metadata": {},
     "output_type": "execute_result"
    }
   ],
   "source": [
    "# This a simple arithmetic expression to mutiply then add integers\n",
    "(3*4)+5"
   ]
  },
  {
   "cell_type": "code",
   "execution_count": 7,
   "id": "6b039028-38ae-4d55-af9f-27cb1de6e9ed",
   "metadata": {},
   "outputs": [
    {
     "name": "stdout",
     "output_type": "stream",
     "text": [
      "3.3333333333333335  hrs\n"
     ]
    }
   ],
   "source": [
    "# This will convert 200 minutes to hours by diving by 60\n",
    "minutes = 200\n",
    "one_hour = 60\n",
    "time = (minutes/one_hour)\n",
    "print(time, \" hrs\")"
   ]
  },
  {
   "cell_type": "markdown",
   "id": "bb8bb63e-ab40-4f09-a904-c9c4a7d202dc",
   "metadata": {},
   "source": [
    "## Author\n",
    "Alex Rivera"
   ]
  }
 ],
 "metadata": {
  "kernelspec": {
   "display_name": "Python",
   "language": "python",
   "name": "conda-env-python-py"
  },
  "language_info": {
   "codemirror_mode": {
    "name": "ipython",
    "version": 3
   },
   "file_extension": ".py",
   "mimetype": "text/x-python",
   "name": "python",
   "nbconvert_exporter": "python",
   "pygments_lexer": "ipython3",
   "version": "3.7.12"
  }
 },
 "nbformat": 4,
 "nbformat_minor": 5
}
